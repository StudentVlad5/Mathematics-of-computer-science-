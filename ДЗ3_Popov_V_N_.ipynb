{
  "nbformat": 4,
  "nbformat_minor": 0,
  "metadata": {
    "colab": {
      "provenance": []
    },
    "kernelspec": {
      "name": "python3",
      "display_name": "Python 3"
    },
    "language_info": {
      "name": "python"
    }
  },
  "cells": [
    {
      "cell_type": "markdown",
      "source": [
        "\n",
        "\n",
        "Дано 4 точки: $M_0(0, 0, 0), M_1(1, \\frac{1}{3}, 0), M_2(0, 2, \\frac{1}{4}), M_3(\\frac{1}{2}, \\frac{1}{2}, 1)$.\n",
        "\n",
        "Також дано 3 вектори, які задають паралелепіпед із зазначеними точками:\n",
        "- $\\overline{a}=\\overline{M_0M_1}$\n",
        "- $\\overline{b}=\\overline{M_0M_2}$\n",
        "- $\\overline{c}=\\overline{M_0M_3}$\n",
        "\n",
        "Порахуй координати векторів через задані точки.  \n",
        "Порахуй об'єм, площу повної поверхні паралелепіпеда та кути між ребрами паралелепіпеда, координати решти вершин паралелепіпеда.\n",
        "\n"
      ],
      "metadata": {
        "id": "hcaEinFBN22V"
      }
    },
    {
      "cell_type": "markdown",
      "source": [
        "$\\overline{a} = M_1 - M_0 = \\left (\\begin{array}{cc}\n",
        "1\\\\\n",
        "\\frac{1}{3}\\\\\n",
        "0\n",
        "\\end{array}\\right)\n",
        "\\\\\n",
        "\\overline{b} = M_2 - M_0 = \\left (\\begin{array}{cc}\n",
        "0\\\\\n",
        "2\\\\\n",
        "\\frac{1}{4}\n",
        "\\end{array}\\right)\n",
        "\\\\\n",
        "\\overline{c} =  M_3 - M_0 = \\left (\\begin{array}{cc}\n",
        "\\frac{1}{2}\\\\\n",
        "\\frac{1}{2}\\\\\n",
        "1\n",
        "\\end{array}\\right)\n",
        "$\n",
        "\n"
      ],
      "metadata": {
        "id": "sktokwYqSqhu"
      }
    },
    {
      "cell_type": "markdown",
      "source": [
        "$$\n",
        "V = ∣\\overline{a}⋅(\\overline{b}×\\overline{c})∣ = \\frac{23}{12}\n",
        "\\\\\n",
        "\\overline{b}×\\overline{c}=\\left (\\begin{array}{cc}\n",
        "i & j & k\\\\\n",
        "0 & 2 & \\frac{1}{4}\\\\\n",
        "\\frac{1}{2} &\n",
        "\\frac{1}{2} &\n",
        "1\n",
        "\\end{array}\\right) =\n",
        "\\left (\\begin{array}{cc}\n",
        "\\frac{15}{8}, &\n",
        "\\frac{1}{8}, &\n",
        "-1\n",
        "\\end{array}\\right)\n",
        "\\\\\n",
        "\\overline{a}⋅(\\overline{b}×\\overline{c}) = \\left (\\begin{array}{cc}\n",
        "1,\\frac{1}{3}, 0\n",
        "\\end{array}\\right) (\\frac{15}{8},\n",
        "\\frac{1}{8},\n",
        "-1) = \\frac{23}{12}\n",
        "\\\\\n",
        "\\\\S = 2( ∣\\overline{a}×\\overline{b}∣ +  ∣\\overline{b}×\\overline{c}∣ +  ∣\\overline{c}×\\overline{a}∣) = 10.5\n",
        "\\\\\n",
        "\\overline{a}\\overline{b}=\\left (\\begin{array}{cc}\n",
        "i & j & k\\\\\n",
        "1 & \\frac{1}{3} &\n",
        "0\\\\\n",
        "0 & 2 & \\frac{1}{4}\n",
        "\\end{array}\\right) =\n",
        "\\left (\\begin{array}{cc}\n",
        "\\frac{1}{12}, &\n",
        "-\\frac{1}{4}, &\n",
        "2\n",
        "\\end{array}\\right) =\n",
        "\\frac{\\sqrt{586}}{12}\n",
        "\\\\\n",
        "\\overline{b}\\overline{c}=\n",
        "\\frac{\\sqrt{290}}{8}\n",
        "\\\\\n",
        "\\overline{c}\\overline{a}=\\left (\\begin{array}{cc}\n",
        "i & j & k\\\\\n",
        "\\frac{1}{2} & \\frac{1}{2} & 1\n",
        "\\\\\n",
        "1 & \\frac{1}{3} & 0\n",
        "\\end{array}\\right) =\n",
        "\\left (\\begin{array}{cc}\n",
        "\\frac{1}{3}, & 1,\n",
        "-\\frac{1}{3}\n",
        "\\end{array}\\right) =\n",
        "\\frac{\\sqrt{11}}{3}\n",
        "\\\\\n",
        "$$"
      ],
      "metadata": {
        "id": "SVtaqixdAuJP"
      }
    },
    {
      "cell_type": "markdown",
      "source": [
        "$$\n",
        "\\angle(a, b) = \\overline{a}\\overline{b} / |\\overline{a}||\\overline{b}| = \\frac{2}{3} / (\\frac{\\sqrt{10}}{3} * \\frac{\\sqrt{65}}{4})=arccos(0.314) = 72.34^∘\n",
        "\\\\\n",
        "\\angle(a, c) = \\overline{a}\\overline{c} / |\\overline{a}||\\overline{c}| = \\frac{2}{3} / (\\frac{\\sqrt{6}}{2} * \\frac{\\sqrt{10}}{3})=arccos(0.516) = 59.46^∘\\\\\n",
        "\\angle(b, c) = \\overline{b}\\overline{c} / |\\overline{b}||\\overline{c}| = \\frac{5}{4} / (\\frac{\\sqrt{65}}{4} * \\frac{\\sqrt{6}}{2})=arccos(0.507) = 59.46^∘\\\\\n",
        "M_4 = M_0 + \\overline{a} + \\overline{b} = (1, \\frac{7}{3}, \\frac{1}{4})\\\\\n",
        "M_5 = M_0 + \\overline{b} + \\overline{c} = (\\frac{1}{2}, 2.5, \\frac{5}{4})\\\\\n",
        "M_6 = M_0 + \\overline{a} + \\overline{c} = (\\frac{3}{2}, \\frac{5}{6}, 1)\\\\\n",
        "M_7 = M_0 + \\overline{a} + \\overline{b} + \\overline{c} = (\\frac{3}{2}, \\frac{19}{6}, \\frac{5}{4})\n",
        "$$"
      ],
      "metadata": {
        "id": "16As-UHsFp3n"
      }
    },
    {
      "cell_type": "markdown",
      "source": [],
      "metadata": {
        "id": "j-BftieoCHTu"
      }
    },
    {
      "cell_type": "code",
      "source": [
        "import numpy as np\n",
        "\n",
        "# Визначення точок\n",
        "M0 = np.array([0, 0, 0])\n",
        "M1 = np.array([1, 1/3, 0])\n",
        "M2 = np.array([0, 2, 1/4])\n",
        "M3 = np.array([0.5, 0.5, 1])\n",
        "\n",
        "# Вектори\n",
        "a = M1 - M0  # M0M1\n",
        "b = M2 - M0  # M0M2\n",
        "c = M3 - M0  # M0M3\n",
        "\n",
        "# Функція для обчислення об'єму паралелепіпеда\n",
        "def volume(a, b, c):\n",
        "    return abs(np.dot(a, np.cross(b, c)))\n",
        "\n",
        "# Обчислення об'єму\n",
        "V = volume(a, b, c)\n",
        "print(f\"Об'єм паралелепіпеда: {V:.6f}\")\n",
        "\n",
        "# Функція для обчислення площі паралелепіпеда\n",
        "def surface_area(a, b, c):\n",
        "    ab = np.linalg.norm(np.cross(a, b))  # Площа між векторами a і b\n",
        "    bc = np.linalg.norm(np.cross(b, c))  # Площа між векторами b і c\n",
        "    ca = np.linalg.norm(np.cross(c, a))  # Площа між векторами c і a\n",
        "    return 2 * (ab + bc + ca)\n",
        "\n",
        "# Обчислення площі поверхні\n",
        "S = surface_area(a, b, c)\n",
        "print(f\"Площа поверхні паралелепіпеда: {S:.6f}\")\n",
        "\n",
        "# Функція для обчислення кута між векторами\n",
        "def angle_between(v1, v2):\n",
        "    cos_theta = np.dot(v1, v2) / (np.linalg.norm(v1) * np.linalg.norm(v2))\n",
        "    return np.arccos(np.clip(cos_theta, -1.0, 1.0)) * 180 / np.pi  # кут в градусах\n",
        "\n",
        "# Обчислення кутів між ребрами\n",
        "angle_ab = angle_between(a, b)\n",
        "angle_bc = angle_between(b, c)\n",
        "angle_ca = angle_between(c, a)\n",
        "\n",
        "print(f\"Кут між ребрами a і b: {angle_ab:.6f} градусів\")\n",
        "print(f\"Кут між ребрами b і c: {angle_bc:.6f} градусів\")\n",
        "print(f\"Кут між ребрами c і a: {angle_ca:.6f} градусів\")\n",
        "\n",
        "# Функція для знаходження координат інших вершин\n",
        "def other_vertices(M0, a, b, c):\n",
        "    M1 = M0 + a\n",
        "    M2 = M0 + b\n",
        "    M3 = M0 + c\n",
        "    M4 = M1 + b\n",
        "    M5 = M1 + c\n",
        "    M6 = M2 + c\n",
        "    M7 = M0 + a + b + c\n",
        "    return M1, M2, M3, M4, M5, M6, M7\n",
        "\n",
        "# Обчислення координат інших вершин\n",
        "vertices = other_vertices(M0, a, b, c)\n",
        "print(\"Координати інших вершин:\")\n",
        "for i, vertex in enumerate(vertices, 1):\n",
        "    print(f\"M{i}: {vertex}\")"
      ],
      "metadata": {
        "colab": {
          "base_uri": "https://localhost:8080/"
        },
        "id": "8FXxtbpMBYRU",
        "outputId": "6e6d6cc7-8e25-4a19-b10d-8abee6bee458"
      },
      "execution_count": 3,
      "outputs": [
        {
          "output_type": "stream",
          "name": "stdout",
          "text": [
            "Об'єм паралелепіпеда: 1.916667\n",
            "Площа поверхні паралелепіпеда: 10.503003\n",
            "Кут між ребрами a і b: 71.712470 градусів\n",
            "Кут між ребрами b і c: 59.577683 градусів\n",
            "Кут між ребрами c і a: 58.909070 градусів\n",
            "Координати інших вершин:\n",
            "M1: [1.         0.33333333 0.        ]\n",
            "M2: [0.   2.   0.25]\n",
            "M3: [0.5 0.5 1. ]\n",
            "M4: [1.         2.33333333 0.25      ]\n",
            "M5: [1.5        0.83333333 1.        ]\n",
            "M6: [0.5  2.5  1.25]\n",
            "M7: [1.5        2.83333333 1.25      ]\n"
          ]
        }
      ]
    }
  ]
}