{
  "nbformat": 4,
  "nbformat_minor": 0,
  "metadata": {
    "colab": {
      "provenance": []
    },
    "kernelspec": {
      "name": "python3",
      "display_name": "Python 3"
    },
    "language_info": {
      "name": "python"
    }
  },
  "cells": [
    {
      "cell_type": "markdown",
      "source": [
        "# Завдання 1\n",
        "Виріши аналітично задачу з текстовою умовою\n",
        "\n",
        "Над проектом працювало 3 типи спеціалістів - дизайнери, розробники та тестувальники. Ми знаємо кількість годин на кожному етапі розробки та кількість грошей, які закладені на виконання кожного етапу в якості собівартості.\n",
        "Всю розробку менеджер розділив на 3 етапи: створення дизайну, розробка програмної частини, фінальне тестування.\n",
        "\n",
        "На першому етапі відпрацьовано 20 годин дизайнером та 3 години розробниками - на даному етапі до смети закладено 775 доларів.\n",
        "На другому етапі дизайнери відпрацювали 8 годин, розробники - 28, а тестувальники - 4. Даний етап було оцінено в 1012 доларів.\n",
        "На фінальному етапі дизайнери відпрацювали 4 години, розробники - 12, а тестувальники 32. Трудові ресурси на цьому етапі оцінені в 696 доларів.\n",
        "\n",
        "Знайди вартість години у кожного спеціаліста шляхом вирішення системи лінійних рівнянь, базуючись на даних по етапах розробки.\n",
        "\n",
        "*Рішення потрібно розписати*"
      ],
      "metadata": {
        "id": "AIw8Nl0sbsd0"
      }
    },
    {
      "cell_type": "markdown",
      "source": [
        "Розв'язок:\n",
        "\n",
        "$$\n",
        "\\overline x =\n",
        "\\left (\\begin{array}{cc}\n",
        "x  \\\\\n",
        "y  \\\\\n",
        "z\n",
        "\\end{array}\\right)\n",
        "\\\\\n",
        "A =\n",
        "\\left (\\begin{array}{cc}\n",
        "20 & 3 & 0 \\\\\n",
        "8 & 28 & 4 \\\\\n",
        "4 & 12 & 32\n",
        "\\end{array}\\right)\n",
        "\\\\\n",
        "b =\n",
        "\\left (\\begin{array}{cc}\n",
        "775 \\\\\n",
        "1012 \\\\\n",
        "696\n",
        "\\end{array}\\right)\n",
        "\\\\\n",
        "A \\overline x = b\n",
        "\\\\\n",
        "△ A = 20\n",
        "\\left (\\begin{array}{cc}\n",
        "28 & 4 \\\\\n",
        "12 & 32\n",
        "\\end{array}\\right) -3\\left (\\begin{array}{cc}\n",
        "8 & -4 \\\\\n",
        "4 & 32\n",
        "\\end{array}\\right) = 16240\n",
        "\\\\\n",
        "△ x =  \n",
        "\\left (\\begin{array}{cc}\n",
        "775 & 3 & 0 \\\\\n",
        "1012 & 28 & 4 \\\\\n",
        "696 & 12 & 32\n",
        "\\end{array}\\right) = 567400\n",
        "\\\\\n",
        "△ y =  \n",
        "\\left (\\begin{array}{cc}\n",
        "20 & 775 & 0 \\\\\n",
        "8 & 1012 & 4 \\\\\n",
        "4 & 696 & 32\n",
        "\\end{array}\\right) = 406000\n",
        "\\\\\n",
        "△ z =  \n",
        "\\left (\\begin{array}{cc}\n",
        "20 & 3 & 775  \\\\\n",
        "8 & 28 & 1012  \\\\\n",
        "4 & 12 & 696  \n",
        "\\end{array}\\right) = 129920\n",
        "\\\\\n",
        "x = △ x / △ A = 35 \\\\\n",
        "y = △ y / △ A = 25 \\\\\n",
        "z = △ z / △ A = 8 \\\\\n",
        "$$"
      ],
      "metadata": {
        "id": "lj_B2d51b2Ai"
      }
    },
    {
      "cell_type": "markdown",
      "source": [
        "*Розв'язувати можна будь-яким методом, але метод Крамера, потенційно, буде найлегшим*\n",
        "\n",
        "$\\Delta = \\left|A\\right|$"
      ],
      "metadata": {
        "id": "MAH-Rm9NpAoi"
      }
    },
    {
      "cell_type": "markdown",
      "source": [
        "Перевірка: $x+y+z = 68$"
      ],
      "metadata": {
        "id": "0V-eKvxDskeu"
      }
    },
    {
      "cell_type": "code",
      "source": [
        "import numpy as np\n",
        "# Метод Крамера\n",
        "# Матриця коефіцієнтів A\n",
        "A = np.array([\n",
        "    [20, 3, 0],\n",
        "    [8, 28, 4],\n",
        "    [4, 12, 32]\n",
        "])\n",
        "\n",
        "# Вектор результатів b\n",
        "b = np.array([775, 1012, 696])\n",
        "\n",
        "# Обчислюємо головний визначник Δ\n",
        "delta = np.linalg.det(A)\n",
        "\n",
        "# Функція для обчислення визначника з підстановкою стовпця\n",
        "def delta_i(A, b, index):\n",
        "    A_copy = A.copy()\n",
        "    A_copy[:, index] = b\n",
        "    return np.linalg.det(A_copy)\n",
        "\n",
        "# Обчислюємо визначники для кожної змінної\n",
        "delta_x = delta_i(A, b, 0)\n",
        "delta_y = delta_i(A, b, 1)\n",
        "delta_z = delta_i(A, b, 2)\n",
        "\n",
        "#  Знаходимо значення змінних\n",
        "x = delta_x / delta\n",
        "y = delta_y / delta\n",
        "z = delta_z / delta\n",
        "\n",
        "# Виводимо результат\n",
        "print(f\"Вартість години дизайнера (x): {round(x, 2)} $\")\n",
        "print(f\"Вартість години розробника (y): {round(y, 2)} $\")\n",
        "print(f\"Вартість години тестувальника (z): {round(z, 2)} $\")\n",
        "\n",
        "# Перевірка: x + y + z\n",
        "print(f\"Сума x + y + z = {round(x + y + z, 2)} $\")"
      ],
      "metadata": {
        "id": "AJUka5HpYnGr",
        "outputId": "657f4654-307d-4a0e-a114-cc60f5e78425",
        "colab": {
          "base_uri": "https://localhost:8080/"
        }
      },
      "execution_count": null,
      "outputs": [
        {
          "output_type": "stream",
          "name": "stdout",
          "text": [
            "Вартість години дизайнера (x): 35.0 $\n",
            "Вартість години розробника (y): 25.0 $\n",
            "Вартість години тестувальника (z): 8.0 $\n",
            "Сума x + y + z = 68.0 $\n"
          ]
        }
      ]
    },
    {
      "cell_type": "code",
      "source": [
        "# Інверсія матриці\n",
        "import numpy as np\n",
        "\n",
        "A = np.array([[20, 3, 0], [8, 28, 4], [4, 12, 32]])\n",
        "b = np.array([775, 1012, 696])\n",
        "\n",
        "x = np.linalg.inv(A).dot(b)\n",
        "print (np.linalg.inv(A))\n",
        "# Перевірка: x + y + z\n",
        "print(f\"Сума x + y + z = {round(x[0] + x[1] + x[2], 2)} $\")"
      ],
      "metadata": {
        "id": "ebrIfB_YaZa9",
        "colab": {
          "base_uri": "https://localhost:8080/"
        },
        "outputId": "065a4eda-6292-4212-b547-290bfe9ba944"
      },
      "execution_count": null,
      "outputs": [
        {
          "output_type": "stream",
          "name": "stdout",
          "text": [
            "[[ 0.05221675 -0.00591133  0.00073892]\n",
            " [-0.01477833  0.03940887 -0.00492611]\n",
            " [-0.00098522 -0.01403941  0.03300493]]\n",
            "Сума x + y + z = 68.0 $\n"
          ]
        }
      ]
    },
    {
      "cell_type": "code",
      "source": [
        "#  вбудована функція\n",
        "import numpy as np\n",
        "\n",
        "A = np.array([[20, 3, 0], [8, 28, 4], [4, 12, 32]])\n",
        "b = np.array([775, 1012, 696])\n",
        "x = np.linalg.solve(A, b)\n",
        "print (x)\n",
        "# Перевірка: x + y + z\n",
        "print(f\"Сума x + y + z = {round(x[0] + x[1] + x[2], 2)} $\")"
      ],
      "metadata": {
        "colab": {
          "base_uri": "https://localhost:8080/"
        },
        "id": "0CZ2GlKCbiGJ",
        "outputId": "b0b351aa-ddee-4c14-fa57-fa7396289ec8"
      },
      "execution_count": null,
      "outputs": [
        {
          "output_type": "stream",
          "name": "stdout",
          "text": [
            "[35. 25.  8.]\n",
            "Сума x + y + z = 68.0 $\n"
          ]
        }
      ]
    },
    {
      "cell_type": "markdown",
      "source": [
        "# Завдання 2\n",
        "- Задай матрицю та вектор вільних членів для наступної системи:"
      ],
      "metadata": {
        "id": "bHTmMx9mDoWb"
      }
    },
    {
      "cell_type": "markdown",
      "source": [
        "![image.png](data:image/png;base64,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)\n"
      ],
      "metadata": {
        "id": "Hwb1-KHJAPmR"
      }
    },
    {
      "cell_type": "code",
      "source": [
        "import numpy as np\n",
        "A = np.array(\n",
        "    [[-1,1,2],[0, -1, -3], [4,-3, 2]]\n",
        ")\n",
        "B = np.array(\n",
        "    [[1],[-4],[7]]\n",
        ")"
      ],
      "metadata": {
        "id": "T4BEZ2vXByqI"
      },
      "execution_count": null,
      "outputs": []
    },
    {
      "cell_type": "markdown",
      "source": [
        "\n",
        "- Напиши функцію для вирішення системи матричним методом *(solve не є матричним методом)*\n",
        "- Напиши функцію для вирішення системи методом Крамера"
      ],
      "metadata": {
        "id": "BgqgSUctDj_l"
      }
    },
    {
      "cell_type": "code",
      "execution_count": 3,
      "metadata": {
        "id": "yJJLOyigUduv",
        "colab": {
          "base_uri": "https://localhost:8080/"
        },
        "outputId": "28e0b95c-d57d-42e2-cde3-376155b7b92a"
      },
      "outputs": [
        {
          "output_type": "stream",
          "name": "stdout",
          "text": [
            "Вектор рішення: \r\n",
            " [[2.]\n",
            " [1.]\n",
            " [1.]]\n"
          ]
        }
      ],
      "source": [
        "import numpy as np\n",
        "A = np.array(\n",
        "    [[-1,1,2],[0, -1, -3], [4,-3, 2]]\n",
        ")\n",
        "B = np.array(\n",
        "    [[1],[-4],[7]]\n",
        ")\n",
        "# Напиши функцію для вирішення системи матричним методом\n",
        "def solve_inv_matrix(a, b, verbose=False):\n",
        "  if verbose:\n",
        "        print(\"Обернена матриця A⁻¹:\")\n",
        "        print(np.linalg.inv(a))\n",
        "  x = np.linalg.inv(a).dot(b)\n",
        "  return x\n",
        "print(f\"Вектор рішення: \\r\\n {solve_inv_matrix(A, B)}\")"
      ]
    },
    {
      "cell_type": "code",
      "source": [
        "import numpy as np\n",
        "A = np.array(\n",
        "    [[-1,1,2],[0, -1, -3], [4,-3, 2]]\n",
        ")\n",
        "B = np.array(\n",
        "    [[1],[-4],[7]]\n",
        ")\n",
        "# Напиши функцію для вирішення системи методом Крамера\n",
        "def solve_cramer(a, b, verbose=False):\n",
        "  n = a.shape[0]\n",
        "  det_a = np.linalg.det(a)\n",
        "  if det_a == 0:\n",
        "    raise ValueError(\"Матриця A вироджена, система не має розв'язку.\")\n",
        "  x = np.zeros((n, 1))\n",
        "  for i in range(n):\n",
        "    a_i = a.copy()\n",
        "    a_i[:, i] = b[:, 0]\n",
        "    det_a_i = np.linalg.det(a_i)\n",
        "    x[i] = det_a_i / det_a\n",
        "    if verbose:\n",
        "      print(f\"det(A_{i}) = {det_a_i:.2f}, x[{i}] = {x[i][0]:.2f}\")\n",
        "  return x\n",
        "print(f\"Вектор рішення: \\r\\n {solve_cramer(A, B)}\")"
      ],
      "metadata": {
        "id": "PJMQzXkrAQmM",
        "colab": {
          "base_uri": "https://localhost:8080/"
        },
        "outputId": "936fbb6a-5e5d-4a27-b6c1-b4dd7237acd5"
      },
      "execution_count": 8,
      "outputs": [
        {
          "output_type": "stream",
          "name": "stdout",
          "text": [
            "Вектор рішення: \r\n",
            " [[2.]\n",
            " [1.]\n",
            " [1.]]\n"
          ]
        }
      ]
    }
  ]
}