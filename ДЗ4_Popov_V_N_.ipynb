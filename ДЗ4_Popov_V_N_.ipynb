{
  "nbformat": 4,
  "nbformat_minor": 0,
  "metadata": {
    "colab": {
      "provenance": []
    },
    "kernelspec": {
      "name": "python3",
      "display_name": "Python 3"
    },
    "language_info": {
      "name": "python"
    }
  },
  "cells": [
    {
      "cell_type": "markdown",
      "source": [
        "Вам можуть знадобитись такі символи:\n",
        "\n",
        "\n",
        "Символ | Код\n",
        "--- | ---\n",
        "$\\wedge$ | \\\\$\\wedge\\\\$\n",
        "$\\vee$ | \\\\$\\vee\\\\$\n",
        "$\\neg$ | \\\\$\\neg\\\\$\n",
        "$\\rightarrow$ | \\\\$\\rightarrow\\\\$\n",
        "$\\oplus$ | \\\\$\\oplus\\\\$\n",
        "$\\equiv$ | \\\\$\\equiv\\\\$\n",
        "$\\Leftrightarrow$ | \\\\$\\Leftrightarrow\\\\$"
      ],
      "metadata": {
        "id": "xJ6EpMRR0Ko1"
      }
    },
    {
      "cell_type": "markdown",
      "source": [
        "## Завдання 1\n",
        "Запишіть наступні висловлювання у математичній формі та складіть для них таблиці істиності:"
      ],
      "metadata": {
        "id": "yKUL8_WRy1WO"
      }
    },
    {
      "cell_type": "markdown",
      "source": [
        "a) “Морті прийде на вечірку (A) тоді й тільки тоді, коли Джесіка прийде на вечірку(B), а Рік не прийде(C)”.\n",
        "\n",
        "A - Морті прийде на вечірку\\\n",
        "B - Джесіка прийде на вечірку\\\n",
        "C - Рік прийде\n",
        "\n",
        "$X = $\n",
        "\n",
        "$$\n",
        "\\begin{array} {|r|r|}\\hline\n",
        "A & B & C & \\neg C & A \\Leftrightarrow B & X \\\\ \\hline\n",
        "0\t&\t0\t&\t0\t&\t1\t&\t1\t&\t1 \\\\ \\hline\n",
        "0\t&\t0\t&\t1\t&\t0\t&\t1\t&\t0 \\\\ \\hline\n",
        "0\t&\t1\t&\t0\t&\t1\t&\t0\t&\t0 \\\\ \\hline\n",
        "0\t&\t1\t&\t1\t&\t0\t&\t0\t&\t0 \\\\ \\hline\n",
        "1\t&\t0\t&\t0\t&\t1\t&\t0\t&\t0 \\\\ \\hline\n",
        "1\t&\t0\t&\t1\t&\t0\t&\t0\t&\t0 \\\\ \\hline\n",
        "1\t&\t1\t&\t0\t&\t1\t&\t1\t&\t1 \\\\ \\hline\n",
        "1\t&\t1\t&\t1\t&\t0\t&\t1\t&\t0 \\\\ \\hline\n",
        "\\end{array}\n",
        "$$"
      ],
      "metadata": {
        "id": "O0k_O_SOy2eP"
      }
    },
    {
      "cell_type": "markdown",
      "source": [
        "b) “Якщо ми успішно виконаємо домашнє завдання з математичної логіки (A), то ми отримаємо заліковий бал (B) або візьмемо участь у науковому семінарі (C), водночас якщо ми візьмемо участь у науковому семінарі і отримаємо заліковий бал, то достроково складемо іспит з математичної логіки (D)”.\n",
        "\n",
        "A - успішно виконаємо домашнє завдання з математичної логіки \\\n",
        "B - отримаємо заліковий бал \\\n",
        "C - візьмемо участь у науковому семінарі\\\n",
        "D - достроково складемо іспит з математичної логіки\n",
        "\n",
        "$X = $\n",
        "\n",
        "$$\n",
        "\\begin{array} {|r|r|}\\hline\n",
        "A & B & C & D & B \\vee C & B \\wedge C & B \\wedge C \\rightarrow D & A \\rightarrow (B \\vee C) & X \\\\ \\hline\n",
        "0\t&\t0\t&\t0\t&\t0\t&\t0\t&\t0\t&\t1\t&\t1\t&\t1 \\\\ \\hline\n",
        "0\t&\t0\t&\t0\t&\t1\t&\t0\t&\t0\t&\t1\t&\t1\t&\t1 \\\\ \\hline\n",
        "0\t&\t0\t&\t1\t&\t0\t&\t1\t&\t0\t&\t1\t&\t1\t&\t1 \\\\ \\hline\n",
        "0\t&\t0\t&\t1\t&\t1\t&\t1\t&\t0\t&\t1\t&\t1\t&\t1 \\\\ \\hline\n",
        "0\t&\t1\t&\t0\t&\t0\t&\t1\t&\t0\t&\t1\t&\t1\t&\t1 \\\\ \\hline\n",
        "0\t&\t1\t&\t0\t&\t1\t&\t1\t&\t0\t&\t1\t&\t1\t&\t1 \\\\ \\hline\n",
        "0\t&\t1\t&\t1\t&\t0\t&\t1\t&\t1\t&\t0\t&\t1\t&\t0 \\\\ \\hline\n",
        "0\t&\t1\t&\t1\t&\t1\t&\t1\t&\t1\t&\t1\t&\t1\t&\t1 \\\\ \\hline\n",
        "1\t&\t0\t&\t0\t&\t0\t&\t0\t&\t0\t&\t1\t&\t0\t&\t0 \\\\ \\hline\n",
        "1\t&\t0\t&\t0\t&\t1\t&\t0\t&\t0\t&\t1\t&\t0\t&\t0 \\\\ \\hline\n",
        "1\t&\t0\t&\t1\t&\t0\t&\t1\t&\t0\t&\t1\t&\t1\t&\t1 \\\\ \\hline\n",
        "1\t&\t0\t&\t1\t&\t1\t&\t1\t&\t0\t&\t1\t&\t1\t&\t1 \\\\ \\hline\n",
        "1\t&\t1\t&\t0\t&\t0\t&\t1\t&\t0\t&\t1\t&\t1\t&\t1 \\\\ \\hline\n",
        "1\t&\t1\t&\t0\t&\t1\t&\t1\t&\t0\t&\t1\t&\t1\t&\t1 \\\\ \\hline\n",
        "1\t&\t1\t&\t1\t&\t0\t&\t1\t&\t1\t&\t0\t&\t1\t&\t0 \\\\ \\hline\n",
        "1\t&\t1\t&\t1\t&\t1\t&\t1\t&\t1\t&\t1\t&\t1\t&\t1 \\\\ \\hline\n",
        "\\end{array}\n",
        "$$"
      ],
      "metadata": {
        "id": "YO3StJEgy2w5"
      }
    },
    {
      "cell_type": "markdown",
      "source": [
        "## Завдання 2\n",
        "Із 40 програмістів 18 володіють мовою Python, 19 — мовою С++, 21 — мовою Java. Відомо, що 10 програмістів знають одночасно Python і С++, 7 — Python і Java, 8 — C++ і Java. Троє програмістів не володіють жодною із мов Python, С++, Java. Знайти кількість програмістів, які одночасно знають усі три мови програмування."
      ],
      "metadata": {
        "id": "7n3tjLJey3Ho"
      }
    },
    {
      "cell_type": "markdown",
      "source": [],
      "metadata": {
        "id": "NE6dRJKmy7za"
      }
    },
    {
      "cell_type": "markdown",
      "source": [
        "зазначемо R як кількість програмістів, які володіють 3 мовами програмування, а\n",
        "x - кількість програмістів, які володіють лише однією мовою Python,\n",
        "y - C++, z - Java.\n",
        "\n",
        "створюємо рівняння:\n",
        "\n",
        "x = 18 - 7 - 10 + R = 1 + R\n",
        "\n",
        "y = 19 - 8 - 10 + R = 1 + R\n",
        "\n",
        "z = 21 - 7 - 8 + R = 6 + R\n",
        "\n",
        "Залежність:\n",
        "\n",
        "x + y + z + R + (7 + 8 + 10 - 3R) = 40 - 3\n",
        "\n",
        "8 + 3R + R + 25 - 3R = 37\n",
        "\n",
        "R = 37 - 33 = 4"
      ],
      "metadata": {
        "id": "_2mpsYDD3lzd"
      }
    },
    {
      "cell_type": "code",
      "source": [],
      "metadata": {
        "id": "1VDBxTmW4XV3"
      },
      "execution_count": null,
      "outputs": []
    }
  ]
}