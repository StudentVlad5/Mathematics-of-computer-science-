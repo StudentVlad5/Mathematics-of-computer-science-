{
  "nbformat": 4,
  "nbformat_minor": 0,
  "metadata": {
    "colab": {
      "provenance": [],
      "collapsed_sections": [
        "mbmam7xBKWRj"
      ]
    },
    "kernelspec": {
      "name": "python3",
      "display_name": "Python 3"
    },
    "language_info": {
      "name": "python"
    }
  },
  "cells": [
    {
      "cell_type": "markdown",
      "source": [
        "# Нагадування по Markdown"
      ],
      "metadata": {
        "id": "mbmam7xBKWRj"
      }
    },
    {
      "cell_type": "markdown",
      "source": [
        "Надаємо невелике нагадування записів в\n",
        "[Markdown](https://colab.research.google.com/notebooks/markdown_guide.ipynb) (LaTeX):\n",
        "\n",
        "Markdown | Preview\n",
        "--- | ---\n",
        "`**bold text**` | **bold text**\n",
        " \\\\$\\frac{x}{y}\\\\$ | $\\frac{x}{y}$\n",
        " \\\\$p^{x}_{y}\\\\$ | $p^{x}_{y}$\n",
        "\\\\$x \\cdot y\\\\$ | $x \\cdot y$\n",
        "\\\\$\\sqrt{x}\\\\$ | $\\sqrt{x}$\n",
        "\\\\$\\pi\\\\$ | $\\pi$\n",
        "\\\\$\\approx\\\\$ | $\\approx$\n",
        "\n",
        "І ще декілька прикладів:\n",
        "\n",
        "```markdown\n",
        "$y=x^2$\n",
        "\n",
        "$e^{i\\pi} + 1 = 0$\n",
        "\n",
        "$e^x=\\sum_{i=0}^\\infty \\frac{1}{i!}x^i$\n",
        "\n",
        "$\\frac{n!}{k!(n-k)!} = {n \\choose k}$\n",
        "\n",
        "$A_{m,n} =\n",
        " \\begin{pmatrix}\n",
        "  a_{1,1} & a_{1,2} & \\cdots & a_{1,n} \\\\\n",
        "  a_{2,1} & a_{2,2} & \\cdots & a_{2,n} \\\\\n",
        "  \\vdots  & \\vdots  & \\ddots & \\vdots  \\\\\n",
        "  a_{m,1} & a_{m,2} & \\cdots & a_{m,n}\n",
        " \\end{pmatrix}$\n",
        "\n",
        " $$\n",
        " I =\n",
        " \\left (\\begin{array}{cc}\n",
        " 1 & 0\\\\\n",
        " 0 & 1\n",
        " \\end{array}\\right)\n",
        " $$\n",
        "```\n",
        "\n",
        "$y=x^2$\n",
        "\n",
        "$e^{i\\pi} + 1 = 0$\n",
        "\n",
        "$e^x=\\sum_{i=0}^\\infty \\frac{1}{i!}x^i$\n",
        "\n",
        "$\\frac{n!}{k!(n-k)!} = {n \\choose k}$\n",
        "\n",
        "$A_{m,n} =\n",
        " \\begin{pmatrix}\n",
        "  a_{1,1} & a_{1,2} & \\cdots & a_{1,n} \\\\\n",
        "  a_{2,1} & a_{2,2} & \\cdots & a_{2,n} \\\\\n",
        "  \\vdots  & \\vdots  & \\ddots & \\vdots  \\\\\n",
        "  a_{m,1} & a_{m,2} & \\cdots & a_{m,n}\n",
        " \\end{pmatrix}$\n",
        "\n",
        "$I =\n",
        "\\left (\\begin{array}{cc}\n",
        "1 & 0\\\\\n",
        "0 & 1\n",
        "\\end{array}\\right)$\n",
        " ---"
      ],
      "metadata": {
        "id": "WKbf0DcrKYHi"
      }
    },
    {
      "cell_type": "markdown",
      "source": [
        "# Завдання 1.\n",
        "В шаблоні наведені числові вектори $\\overline{a}$ та $\\overline{b}$. Порахуй наступне:\n",
        "- сума $\\overline{a}$ та $\\overline{b}$\n",
        "- різниця $\\overline{a}$ та $\\overline{b}$\n",
        "- сума $\\overline{a}$ та $\\overline{b}^T$. Поясни отриманий результат.\n",
        "- матричний добуток (dot product) $\\overline{a}$ та $\\overline{b}^T$.\n",
        "- матричний добуток (dot product) $\\overline{a}$ та $\\overline{b}$. Поясни отриманий результат.\n",
        "- добуток Адамара (Hadamard product) $\\overline{a}$ та $\\overline{b}$. Поясни отриманий результат.\n",
        "- ділення $\\overline{a}$ та $\\overline{b}$. Поясни отриманий результат.\n",
        "- ділення $\\overline{a}$ та $\\overline{b}^T$. Поясни отриманий результат."
      ],
      "metadata": {
        "id": "AQsl6FeF0Sq3"
      }
    },
    {
      "cell_type": "code",
      "source": [
        "import numpy as np\n",
        "# Код оголошення векторів не можна змінювати\n",
        "a = np.array([[1, 2, 3, 4, 5]])\n",
        "b = np.array([[1/2, 1, 2, 3, 4]])"
      ],
      "metadata": {
        "id": "x_pAAV5I0Rqg"
      },
      "execution_count": null,
      "outputs": []
    },
    {
      "cell_type": "code",
      "source": [
        "res = a + b\n",
        "res"
      ],
      "metadata": {
        "id": "-TcDgKRB0n-s",
        "outputId": "be3a695a-ec4e-48b9-9c87-975cc45d8c77",
        "colab": {
          "base_uri": "https://localhost:8080/"
        }
      },
      "execution_count": null,
      "outputs": [
        {
          "output_type": "execute_result",
          "data": {
            "text/plain": [
              "array([[1.5, 3. , 5. , 7. , 9. ]])"
            ]
          },
          "metadata": {},
          "execution_count": 3
        }
      ]
    },
    {
      "cell_type": "code",
      "source": [
        "res = a - b\n",
        "res"
      ],
      "metadata": {
        "id": "CcIk7MVQ1xgq",
        "outputId": "e8e1a0fb-64f5-4633-aa49-f010e6b76961",
        "colab": {
          "base_uri": "https://localhost:8080/"
        }
      },
      "execution_count": null,
      "outputs": [
        {
          "output_type": "execute_result",
          "data": {
            "text/plain": [
              "array([[0.5, 1. , 1. , 1. , 1. ]])"
            ]
          },
          "metadata": {},
          "execution_count": 4
        }
      ]
    },
    {
      "cell_type": "code",
      "source": [
        "# Пояснення: формуються вектори до спільної форми (5×5), і додаються відповідні елементи. Це називається broadcasting.\n",
        "res = a + b.T\n",
        "res"
      ],
      "metadata": {
        "id": "exb6q60N0uFv",
        "outputId": "ab918bcc-2335-4a35-82fd-ec625791eecc",
        "colab": {
          "base_uri": "https://localhost:8080/"
        }
      },
      "execution_count": null,
      "outputs": [
        {
          "output_type": "execute_result",
          "data": {
            "text/plain": [
              "array([[1.5, 2.5, 3.5, 4.5, 5.5],\n",
              "       [2. , 3. , 4. , 5. , 6. ],\n",
              "       [3. , 4. , 5. , 6. , 7. ],\n",
              "       [4. , 5. , 6. , 7. , 8. ],\n",
              "       [5. , 6. , 7. , 8. , 9. ]])"
            ]
          },
          "metadata": {},
          "execution_count": 5
        }
      ]
    },
    {
      "cell_type": "code",
      "source": [
        "res = a @ b.T\n",
        "res"
      ],
      "metadata": {
        "id": "oZB7Kx5_1c29",
        "outputId": "2aba07d3-2afc-4412-8207-e09723d97cfa",
        "colab": {
          "base_uri": "https://localhost:8080/"
        }
      },
      "execution_count": null,
      "outputs": [
        {
          "output_type": "execute_result",
          "data": {
            "text/plain": [
              "array([[40.5]])"
            ]
          },
          "metadata": {},
          "execution_count": 6
        }
      ]
    },
    {
      "cell_type": "code",
      "source": [
        "# Пояснення: помилка, тому що кількість рядків матриці а дорвінює 5, а кількість рядів матриці b дорівнює 1.  множення  підтримується лише за умови рівних показників.\n",
        "res = a @ b\n",
        "res"
      ],
      "metadata": {
        "id": "PbRyd3630xud",
        "outputId": "7bb053d8-a38a-4669-87bc-789235a755c3",
        "colab": {
          "base_uri": "https://localhost:8080/",
          "height": 182
        }
      },
      "execution_count": null,
      "outputs": [
        {
          "output_type": "error",
          "ename": "ValueError",
          "evalue": "matmul: Input operand 1 has a mismatch in its core dimension 0, with gufunc signature (n?,k),(k,m?)->(n?,m?) (size 1 is different from 5)",
          "traceback": [
            "\u001b[0;31m---------------------------------------------------------------------------\u001b[0m",
            "\u001b[0;31mValueError\u001b[0m                                Traceback (most recent call last)",
            "\u001b[0;32m<ipython-input-7-2e944185ac42>\u001b[0m in \u001b[0;36m<cell line: 0>\u001b[0;34m()\u001b[0m\n\u001b[1;32m      1\u001b[0m \u001b[0;31m# Пояснення:\u001b[0m\u001b[0;34m\u001b[0m\u001b[0;34m\u001b[0m\u001b[0m\n\u001b[0;32m----> 2\u001b[0;31m \u001b[0mres\u001b[0m \u001b[0;34m=\u001b[0m \u001b[0ma\u001b[0m \u001b[0;34m@\u001b[0m \u001b[0mb\u001b[0m\u001b[0;34m\u001b[0m\u001b[0;34m\u001b[0m\u001b[0m\n\u001b[0m\u001b[1;32m      3\u001b[0m \u001b[0mres\u001b[0m\u001b[0;34m\u001b[0m\u001b[0;34m\u001b[0m\u001b[0m\n",
            "\u001b[0;31mValueError\u001b[0m: matmul: Input operand 1 has a mismatch in its core dimension 0, with gufunc signature (n?,k),(k,m?)->(n?,m?) (size 1 is different from 5)"
          ]
        }
      ]
    },
    {
      "cell_type": "code",
      "source": [
        "# Пояснення: Покомпонентне множення\n",
        "res = a * b\n",
        "res"
      ],
      "metadata": {
        "id": "QPHTXr83ly7o",
        "outputId": "9a97d99c-ae80-4994-9e0c-e8fe8a4b155a",
        "colab": {
          "base_uri": "https://localhost:8080/"
        }
      },
      "execution_count": null,
      "outputs": [
        {
          "output_type": "execute_result",
          "data": {
            "text/plain": [
              "array([[ 0.5,  2. ,  6. , 12. , 20. ]])"
            ]
          },
          "metadata": {},
          "execution_count": 8
        }
      ]
    },
    {
      "cell_type": "code",
      "source": [
        "# Пояснення: Елементне ділення a[i] / b[i].\n",
        "res = a / b\n",
        "res"
      ],
      "metadata": {
        "id": "9mAIEbkQ1pJH",
        "outputId": "2a16cd1b-33bd-47d7-9325-2c97ef78474a",
        "colab": {
          "base_uri": "https://localhost:8080/"
        }
      },
      "execution_count": null,
      "outputs": [
        {
          "output_type": "execute_result",
          "data": {
            "text/plain": [
              "array([[2.        , 2.        , 1.5       , 1.33333333, 1.25      ]])"
            ]
          },
          "metadata": {},
          "execution_count": 9
        }
      ]
    },
    {
      "cell_type": "code",
      "source": [
        "# Пояснення: Broadcasting, як у додаванні.\n",
        "res = a / b.T\n",
        "res"
      ],
      "metadata": {
        "id": "pozfWRdc1qF9",
        "outputId": "769db0bd-6c58-41b4-dbe3-aac8cdccba88",
        "colab": {
          "base_uri": "https://localhost:8080/"
        }
      },
      "execution_count": null,
      "outputs": [
        {
          "output_type": "execute_result",
          "data": {
            "text/plain": [
              "array([[ 2.        ,  4.        ,  6.        ,  8.        , 10.        ],\n",
              "       [ 1.        ,  2.        ,  3.        ,  4.        ,  5.        ],\n",
              "       [ 0.5       ,  1.        ,  1.5       ,  2.        ,  2.5       ],\n",
              "       [ 0.33333333,  0.66666667,  1.        ,  1.33333333,  1.66666667],\n",
              "       [ 0.25      ,  0.5       ,  0.75      ,  1.        ,  1.25      ]])"
            ]
          },
          "metadata": {},
          "execution_count": 10
        }
      ]
    },
    {
      "cell_type": "markdown",
      "source": [
        "# Завдання 2\n",
        "В цьому завданні ти навчишся перетворювати вектори за допомогою афінних перетворень.  \n",
        "Дано вектор:\n",
        "$$\n",
        "x =\n",
        "\\left(\\begin{array}{cc}\n",
        "2\\\\\n",
        "1\n",
        "\\end{array}\\right)\n",
        "$$\n",
        "\n",
        "\n",
        "Виконай аналітично наступні завдання задавши матрицю перетворення та застосуй її до вектора $x$:\n",
        "\n",
        "1. Зменши вектор $x$ в 2 рази по вісі $OX$ та збільш в 3 рази по вісі $OY$.\n",
        "2. Відобрази вектор $x$ відносно початку координат.\n",
        "3. Перенеси вектор $x$ на -3 по вісі $OX$ та на 1 по вісі $OY$.\n",
        "4. Змісти вектор $x$ на 60° по вісі $OY$.\n",
        "5. Поверни вектор $x$ на 30°.\n",
        "6. Об'єднай перетворення з кроків 1, 2, 4, 5 в одну матрицю та застосуй її до вектору $x$."
      ],
      "metadata": {
        "id": "W-FFJ2oK0TTF"
      }
    },
    {
      "cell_type": "markdown",
      "source": [],
      "metadata": {
        "id": "coRcpu8kgMqh"
      }
    },
    {
      "cell_type": "markdown",
      "source": [
        "#### 2.1 Зменши вектор  $x$  в 2 рази по вісі  OX  та збільш в 3 рази по вісі  OY ."
      ],
      "metadata": {
        "id": "6G4BWKMB33NV"
      }
    },
    {
      "cell_type": "markdown",
      "source": [
        "$$\n",
        "M_1 =\n",
        "\\left (\\begin{array}{cc}\n",
        "0.5 & 0\\\\\n",
        "0 & 3\\\\\n",
        "\\end{array}\\right)\n",
        "$$\n",
        "\n",
        "$$\n",
        "M_1x =\n",
        "\\left(\\begin{array}{cc}\n",
        "0.5 & 0\\\\\n",
        "0 & 3\n",
        "\\end{array}\\right)\n",
        "\\left (\\begin{array}{cc}\n",
        "2\\\\\n",
        "1\n",
        "\\end{array}\\right)=\n",
        "\\left(\\begin{array}{cc}\n",
        "0.5 \\cdot 2 + 0 \\cdot 1\\\\\n",
        "0 \\cdot 2 + 3 \\cdot 1\n",
        "\\end{array}\\right)=\n",
        "\\left(\\begin{array}{cc}\n",
        "1\\\\\n",
        "3\n",
        "\\end{array}\\right)\n",
        "$$"
      ],
      "metadata": {
        "id": "_BvcoZCyg8nk"
      }
    },
    {
      "cell_type": "markdown",
      "source": [
        "#### 2.2 Відобрази вектор $x$ відносно початку координат."
      ],
      "metadata": {
        "id": "Rlhpc8-24M9k"
      }
    },
    {
      "cell_type": "markdown",
      "source": [
        "$$\n",
        "M_2 =\n",
        "\\left(\\begin{array}{cc}\n",
        "-1 & 0\\\\\n",
        "0 & -1\n",
        "\\end{array}\\right)\n",
        "\\\\\n",
        "M_2x =\n",
        "\\left(\\begin{array}{cc}\n",
        "-1 & 0\\\\\n",
        "0 & -1\n",
        "\\end{array}\\right)\n",
        "\\left (\\begin{array}{cc}\n",
        "2\\\\\n",
        "1\n",
        "\\end{array}\\right)=\n",
        "\\left(\\begin{array}{cc}\n",
        "-2\\\\\n",
        "-1\n",
        "\\end{array}\\right)\n",
        "$$"
      ],
      "metadata": {
        "id": "35Ld0CHYgsXY"
      }
    },
    {
      "cell_type": "markdown",
      "source": [
        "#### 2.3 Перенеси вектор $x$, задавши відповідну матрицю і помноживши на неї,  на -3 по вісі $OX$ та на 1 по вісі $OY$."
      ],
      "metadata": {
        "id": "V5AiNUx14MvZ"
      }
    },
    {
      "cell_type": "markdown",
      "source": [
        "$$\n",
        "M_3 =\n",
        "\\left(\\begin{array}{cc}\n",
        "1 & 0 & -3\\\\\n",
        "0 & 1 & 1\\\\\n",
        "0 & 0 & 1\n",
        "\\end{array}\\right)\n",
        "\\\\\n",
        "\\\\\n",
        "M_3x =\n",
        "\\left(\\begin{array}{cc}\n",
        "1 & 0 & -3\\\\\n",
        "0 & 1 & 1\\\\\n",
        "0 & 0 & 1\n",
        "\\end{array}\\right)\n",
        "\\left(\\begin{array}{cc}\n",
        "2 \\\\\n",
        "1 \\\\\n",
        "1\n",
        "\\end{array}\\right)\n",
        " =\n",
        " \\left(\\begin{array}{cc}\n",
        "-1 \\\\\n",
        "2 \\\\\n",
        "1\n",
        "\\end{array}\\right)=\n",
        " \\left(\\begin{array}{cc}\n",
        "-1 \\\\\n",
        "2\n",
        "\\end{array}\\right)\n",
        "$$"
      ],
      "metadata": {
        "id": "qtzBmsNcgpQA"
      }
    },
    {
      "cell_type": "markdown",
      "source": [
        "#### 2.4 Змісти(shear) вектор $x$ на 60° по вісі $OY$.\n"
      ],
      "metadata": {
        "id": "VfjTQ4li9Neq"
      }
    },
    {
      "cell_type": "markdown",
      "source": [
        "$$\n",
        "M_4 =\n",
        "\\left(\\begin{array}{cc}\n",
        "1 & tan(60°)\\\\\n",
        "0 & 1\n",
        "\\end{array}\\right)\n",
        "\\\\\n",
        "M_4x =\n",
        "\\left(\\begin{array}{cc}\n",
        "1 & tan(60°)\\\\\n",
        "0 & 1\n",
        "\\end{array}\\right)\n",
        "\\left(\\begin{array}{cc}\n",
        "2 \\\\\n",
        "1\n",
        "\\end{array}\\right) =\n",
        "\\left(\\begin{array}{cc}\n",
        "2 + \\sqrt{3}\\\\\n",
        "1\n",
        "\\end{array}\\right)\n",
        "$$"
      ],
      "metadata": {
        "id": "1-0_aTZiglze"
      }
    },
    {
      "cell_type": "markdown",
      "source": [
        "#### 2.5 Поверни вектор $x$ на 30°."
      ],
      "metadata": {
        "id": "F5dbVgGr9RCD"
      }
    },
    {
      "cell_type": "markdown",
      "source": [
        "$$\n",
        "M_5 =\n",
        "\\left(\\begin{array}{cc}\n",
        "cos(30°) & -sin(30°)\\\\\n",
        "sin(30°) & cos(30°)\n",
        "\\end{array}\\right)\n",
        "\\\\\n",
        "M_5x =\n",
        "\\left(\\begin{array}{cc}\n",
        "cos(30°) & -sin(30°)\\\\\n",
        "sin(30°) & cos(30°)\n",
        "\\end{array}\\right)\n",
        "\\left(\\begin{array}{cc}\n",
        "2 \\\\\n",
        "1\n",
        "\\end{array}\\right) =\n",
        "\\left(\\begin{array}{cc}\n",
        "\\sqrt{3} -0.5 \\\\\n",
        "1 + \\frac{\\sqrt{3}}{2}\n",
        "\\end{array}\\right)\n",
        "$$"
      ],
      "metadata": {
        "id": "ABCk4cPhg2Zp"
      }
    },
    {
      "cell_type": "markdown",
      "source": [
        "#### 2.6 Об'єднай перетворення з кроків 1, 2, 4, 5 в одну матрицю та застосуй її до вектору $x$."
      ],
      "metadata": {
        "id": "nXJQVzee9RTp"
      }
    },
    {
      "cell_type": "markdown",
      "source": [
        "$$\n",
        "M_6 = M_5 \\cdot M_4 \\cdot M_2 \\cdot M_1 =\n",
        "\n",
        "$$"
      ],
      "metadata": {
        "id": "NzEYWaaZHUGm"
      }
    },
    {
      "cell_type": "markdown",
      "source": [
        "$$\n",
        "M_6 =\n",
        "\\left(\\begin{array}{cc}\n",
        "-\\frac{\\sqrt{3}}{4} && -3 \\\\\n",
        "- \\frac{1}{4} && -3\\sqrt{3}\n",
        "\\end{array}\\right)\n",
        "\\\\\n",
        "M_6x =\n",
        "\\left(\\begin{array}{cc}\n",
        "-\\frac{\\sqrt{3}}{4} && -3 \\\\\n",
        "- \\frac{1}{4} && -3\\sqrt{3}\n",
        "\\end{array}\\right)\n",
        "\\left(\\begin{array}{cc}\n",
        "2 \\\\\n",
        "1\n",
        "\\end{array}\\right) =\n",
        "\\left(\\begin{array}{cc}\n",
        "-3 & -\\frac{\\sqrt{3}}{2} \\\\\n",
        "-\\frac{1}{2} & -3\\sqrt{3}\n",
        "\\end{array}\\right)  \n",
        "$$"
      ],
      "metadata": {
        "id": "483K8PxWY0Na"
      }
    },
    {
      "cell_type": "code",
      "source": [],
      "metadata": {
        "id": "krE4_MLkCchf"
      },
      "execution_count": null,
      "outputs": []
    },
    {
      "cell_type": "markdown",
      "source": [
        "# Завдання 2 (Альтернативне)"
      ],
      "metadata": {
        "id": "4Hskh6fFb89N"
      }
    },
    {
      "cell_type": "code",
      "source": [
        "# на локалхост код працює і зміни відбуваються, в цьому середовищі малюнок за урл не отримується.\n",
        "import cv2\n",
        "import urllib\n",
        "import numpy as np\n",
        "import matplotlib.pyplot as plt\n",
        "from google.colab.patches import cv2_imshow as cv_imshow\n",
        "\n",
        "# Функція для завантаження зображення за URL\n",
        "def read_image_by_url(url):\n",
        "    req = urllib.request.urlopen(url)  # Відкриваємо URL\n",
        "    arr = np.asarray(bytearray(req.read()), dtype=np.uint8)  # Перетворюємо в масив байтів\n",
        "    img = cv2.imdecode(arr, -1)  # Декодуємо зображення\n",
        "    return img\n",
        "\n",
        "# Приклад URL (замість цього вставте своє посилання на зображення)\n",
        "url = 'https://en.wikipedia.org/wiki/Main_Page#/media/File:Leucocrinum_montanum_-_Cecelia_Alexander_04.jpg'\n",
        "\n",
        "# Завантажуємо зображення за URL\n",
        "img = read_image_by_url(url)\n",
        "\n",
        "# Переводимо зображення в RGB для відображення з matplotlib\n",
        "img_rgb = cv2.cvtColor(img, cv2.COLOR_BGR2RGB)\n",
        "\n",
        "\n",
        "# Переводимо зображення в RGB для відображення з matplotlib\n",
        "img_rgb = cv2.cvtColor(img, cv2.COLOR_BGR2RGB)\n",
        "\n",
        "# Матриця масштабування (M1) - зменшуємо по осі OX в 2 рази, збільшуємо по осі OY в 3 рази\n",
        "M1 = np.array([[0.5, 0, 0], [0, 3, 0], [0, 0, 1]], dtype=np.float32)\n",
        "\n",
        "# Матриця відображення (M2) - відображаємо відносно початку координат\n",
        "M2 = np.array([[-1, 0, 0], [0, -1, 0], [0, 0, 1]], dtype=np.float32)\n",
        "\n",
        "# Матриця зміщення (shear) по осі OY на 60°\n",
        "shear_angle = 60  # градуси\n",
        "shear_radians = np.deg2rad(shear_angle)\n",
        "M4 = np.array([[1, np.tan(shear_radians), 0], [0, 1, 0], [0, 0, 1]], dtype=np.float32)\n",
        "\n",
        "# Матриця повороту (M5) на 30°\n",
        "rotation_angle = 30  # градуси\n",
        "rotation_radians = np.deg2rad(rotation_angle)\n",
        "M5 = np.array([[np.cos(rotation_radians), -np.sin(rotation_radians), 0],\n",
        "               [np.sin(rotation_radians), np.cos(rotation_radians), 0],\n",
        "               [0, 0, 1]], dtype=np.float32)\n",
        "\n",
        "# Перевіримо поетапно кожне перетворення окремо, щоб знайти причину\n",
        "# 1. Масштабування\n",
        "img_scaled = cv2.warpPerspective(img, M1, (img.shape[1], img.shape[0]))\n",
        "# Відображаємо результат після масштабування\n",
        "plt.figure(figsize=(10, 5))\n",
        "plt.subplot(1, 2, 1)\n",
        "plt.imshow(img_rgb)\n",
        "plt.title(\"Оригінальне зображення\")\n",
        "plt.axis(\"off\")\n",
        "\n",
        "plt.subplot(1, 2, 2)\n",
        "img_scaled_rgb = cv2.cvtColor(img_scaled, cv2.COLOR_BGR2RGB)\n",
        "plt.imshow(img_scaled_rgb)\n",
        "plt.title(\"Після масштабування\")\n",
        "plt.axis(\"off\")\n",
        "plt.show()\n",
        "\n",
        "# 2. Відображення\n",
        "img_reflected = cv2.warpPerspective(img, M2, (img.shape[1], img.shape[0]))\n",
        "# Відображаємо результат після відображення\n",
        "plt.figure(figsize=(10, 5))\n",
        "plt.subplot(1, 2, 1)\n",
        "plt.imshow(img_rgb)\n",
        "plt.title(\"Оригінальне зображення\")\n",
        "plt.axis(\"off\")\n",
        "\n",
        "plt.subplot(1, 2, 2)\n",
        "img_reflected_rgb = cv2.cvtColor(img_reflected, cv2.COLOR_BGR2RGB)\n",
        "plt.imshow(img_reflected_rgb)\n",
        "plt.title(\"Після відображення\")\n",
        "plt.axis(\"off\")\n",
        "plt.show()\n",
        "\n",
        "# 3. Зміщення\n",
        "img_sheared = cv2.warpPerspective(img, M4, (img.shape[1], img.shape[0]))\n",
        "# Відображаємо результат після зміщення\n",
        "plt.figure(figsize=(10, 5))\n",
        "plt.subplot(1, 2, 1)\n",
        "plt.imshow(img_rgb)\n",
        "plt.title(\"Оригінальне зображення\")\n",
        "plt.axis(\"off\")\n",
        "\n",
        "plt.subplot(1, 2, 2)\n",
        "img_sheared_rgb = cv2.cvtColor(img_sheared, cv2.COLOR_BGR2RGB)\n",
        "plt.imshow(img_sheared_rgb)\n",
        "plt.title(\"Після зміщення\")\n",
        "plt.axis(\"off\")\n",
        "plt.show()\n",
        "\n",
        "# 4. Поворот\n",
        "img_rotated = cv2.warpPerspective(img, M5, (img.shape[1], img.shape[0]))\n",
        "# Відображаємо результат після повороту\n",
        "plt.figure(figsize=(10, 5))\n",
        "plt.subplot(1, 2, 1)\n",
        "plt.imshow(img_rgb)\n",
        "plt.title(\"Оригінальне зображення\")\n",
        "plt.axis(\"off\")\n",
        "\n",
        "plt.subplot(1, 2, 2)\n",
        "img_rotated_rgb = cv2.cvtColor(img_rotated, cv2.COLOR_BGR2RGB)\n",
        "plt.imshow(img_rotated_rgb)\n",
        "plt.title(\"Після повороту\")\n",
        "plt.axis(\"off\")\n",
        "plt.show()\n",
        "\n",
        "# 5. Об'єднуємо всі матриці\n",
        "M6 = M5 @ M4 @ M2 @ M1  # Перемножуємо матриці\n",
        "output_img = cv2.warpPerspective(img, M6, (int(img.shape[1] * 1.5), int(img.shape[0] * 1.5)))  # Розширення розмірів\n",
        "\n",
        "# Відображаємо фінальне перетворене зображення\n",
        "plt.figure(figsize=(10, 10))\n",
        "plt.subplot(1, 2, 1)\n",
        "plt.imshow(img_rgb)\n",
        "plt.title(\"Оригінальне зображення\")\n",
        "plt.axis(\"off\")\n",
        "\n",
        "plt.subplot(1, 2, 2)\n",
        "output_img_rgb = cv2.cvtColor(output_img, cv2.COLOR_BGR2RGB)\n",
        "plt.imshow(output_img_rgb)\n",
        "plt.title(\"Перетворене зображення\")\n",
        "plt.axis(\"off\")\n",
        "\n",
        "plt.show()\n",
        "\n"
      ],
      "metadata": {
        "id": "T9X-m9XvdlPK",
        "colab": {
          "base_uri": "https://localhost:8080/",
          "height": 211
        },
        "outputId": "87715bca-bd83-4989-8072-1a3dbaed2313"
      },
      "execution_count": 11,
      "outputs": [
        {
          "output_type": "error",
          "ename": "error",
          "evalue": "OpenCV(4.11.0) /io/opencv/modules/imgproc/src/color.cpp:199: error: (-215:Assertion failed) !_src.empty() in function 'cvtColor'\n",
          "traceback": [
            "\u001b[0;31m---------------------------------------------------------------------------\u001b[0m",
            "\u001b[0;31merror\u001b[0m                                     Traceback (most recent call last)",
            "\u001b[0;32m<ipython-input-11-2be954c02510>\u001b[0m in \u001b[0;36m<cell line: 0>\u001b[0;34m()\u001b[0m\n\u001b[1;32m     20\u001b[0m \u001b[0;34m\u001b[0m\u001b[0m\n\u001b[1;32m     21\u001b[0m \u001b[0;31m# Переводимо зображення в RGB для відображення з matplotlib\u001b[0m\u001b[0;34m\u001b[0m\u001b[0;34m\u001b[0m\u001b[0m\n\u001b[0;32m---> 22\u001b[0;31m \u001b[0mimg_rgb\u001b[0m \u001b[0;34m=\u001b[0m \u001b[0mcv2\u001b[0m\u001b[0;34m.\u001b[0m\u001b[0mcvtColor\u001b[0m\u001b[0;34m(\u001b[0m\u001b[0mimg\u001b[0m\u001b[0;34m,\u001b[0m \u001b[0mcv2\u001b[0m\u001b[0;34m.\u001b[0m\u001b[0mCOLOR_BGR2RGB\u001b[0m\u001b[0;34m)\u001b[0m\u001b[0;34m\u001b[0m\u001b[0;34m\u001b[0m\u001b[0m\n\u001b[0m\u001b[1;32m     23\u001b[0m \u001b[0;34m\u001b[0m\u001b[0m\n\u001b[1;32m     24\u001b[0m \u001b[0;34m\u001b[0m\u001b[0m\n",
            "\u001b[0;31merror\u001b[0m: OpenCV(4.11.0) /io/opencv/modules/imgproc/src/color.cpp:199: error: (-215:Assertion failed) !_src.empty() in function 'cvtColor'\n"
          ]
        }
      ]
    },
    {
      "cell_type": "code",
      "source": [
        "cv_imshow(img)"
      ],
      "metadata": {
        "id": "3oDsfgd25Rx7",
        "colab": {
          "base_uri": "https://localhost:8080/",
          "height": 263
        },
        "outputId": "5953f78a-1902-4ccc-f315-1ba91bff4f05"
      },
      "execution_count": 10,
      "outputs": [
        {
          "output_type": "error",
          "ename": "AttributeError",
          "evalue": "'NoneType' object has no attribute 'clip'",
          "traceback": [
            "\u001b[0;31m---------------------------------------------------------------------------\u001b[0m",
            "\u001b[0;31mAttributeError\u001b[0m                            Traceback (most recent call last)",
            "\u001b[0;32m<ipython-input-10-39bc3b16ac13>\u001b[0m in \u001b[0;36m<cell line: 0>\u001b[0;34m()\u001b[0m\n\u001b[0;32m----> 1\u001b[0;31m \u001b[0mcv_imshow\u001b[0m\u001b[0;34m(\u001b[0m\u001b[0mimg\u001b[0m\u001b[0;34m)\u001b[0m\u001b[0;34m\u001b[0m\u001b[0;34m\u001b[0m\u001b[0m\n\u001b[0m",
            "\u001b[0;32m/usr/local/lib/python3.11/dist-packages/google/colab/patches/__init__.py\u001b[0m in \u001b[0;36mcv2_imshow\u001b[0;34m(a)\u001b[0m\n\u001b[1;32m     16\u001b[0m       \u001b[0;34m(\u001b[0m\u001b[0mN\u001b[0m\u001b[0;34m,\u001b[0m \u001b[0mM\u001b[0m\u001b[0;34m,\u001b[0m \u001b[0;36m4\u001b[0m\u001b[0;34m)\u001b[0m \u001b[0;32mis\u001b[0m \u001b[0man\u001b[0m \u001b[0mNxM\u001b[0m \u001b[0mBGRA\u001b[0m \u001b[0mcolor\u001b[0m \u001b[0mimage\u001b[0m\u001b[0;34m.\u001b[0m\u001b[0;34m\u001b[0m\u001b[0;34m\u001b[0m\u001b[0m\n\u001b[1;32m     17\u001b[0m   \"\"\"\n\u001b[0;32m---> 18\u001b[0;31m   \u001b[0ma\u001b[0m \u001b[0;34m=\u001b[0m \u001b[0ma\u001b[0m\u001b[0;34m.\u001b[0m\u001b[0mclip\u001b[0m\u001b[0;34m(\u001b[0m\u001b[0;36m0\u001b[0m\u001b[0;34m,\u001b[0m \u001b[0;36m255\u001b[0m\u001b[0;34m)\u001b[0m\u001b[0;34m.\u001b[0m\u001b[0mastype\u001b[0m\u001b[0;34m(\u001b[0m\u001b[0;34m'uint8'\u001b[0m\u001b[0;34m)\u001b[0m\u001b[0;34m\u001b[0m\u001b[0;34m\u001b[0m\u001b[0m\n\u001b[0m\u001b[1;32m     19\u001b[0m   \u001b[0;31m# cv2 stores colors as BGR; convert to RGB\u001b[0m\u001b[0;34m\u001b[0m\u001b[0;34m\u001b[0m\u001b[0m\n\u001b[1;32m     20\u001b[0m   \u001b[0;32mif\u001b[0m \u001b[0ma\u001b[0m\u001b[0;34m.\u001b[0m\u001b[0mndim\u001b[0m \u001b[0;34m==\u001b[0m \u001b[0;36m3\u001b[0m\u001b[0;34m:\u001b[0m\u001b[0;34m\u001b[0m\u001b[0;34m\u001b[0m\u001b[0m\n",
            "\u001b[0;31mAttributeError\u001b[0m: 'NoneType' object has no attribute 'clip'"
          ]
        }
      ]
    },
    {
      "cell_type": "code",
      "source": [],
      "metadata": {
        "id": "XmpNfQZpira8"
      },
      "execution_count": null,
      "outputs": []
    }
  ]
}